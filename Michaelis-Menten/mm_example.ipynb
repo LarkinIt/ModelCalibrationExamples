{
 "cells": [
  {
   "cell_type": "markdown",
   "metadata": {},
   "source": [
    "# Michaelis-Menten Model Calibration Example"
   ]
  },
  {
   "cell_type": "code",
   "execution_count": 1,
   "metadata": {},
   "outputs": [
    {
     "name": "stdout",
     "output_type": "stream",
     "text": [
      "8\n"
     ]
    }
   ],
   "source": [
    "import numpy as np\n",
    "import scipy as sp\n",
    "from scipy.integrate import odeint\n",
    "from scipy import io\n",
    "import pandas as pd\n",
    "import matplotlib.pyplot as plt\n",
    "import copy\n",
    "\n",
    "import pypesto\n",
    "import pypesto.engine as eng\n",
    "import pypesto.visualize as visualize\n",
    "import pypesto.optimize as optimize\n",
    "import pypesto.profile as profile\n",
    "import pypesto.sample as sample\n",
    "import pypesto.store as store\n",
    "import os \n",
    "\n",
    "SEED=123456\n",
    "np.random.seed(seed=SEED)\n",
    "engine = eng.MultiProcessEngine(n_procs=os.cpu_count())\n",
    "\n",
    "print(os.cpu_count())\n",
    "\n",
    "\n",
    "LOG_PARAM = False\n",
    "LOG_ERROR = False"
   ]
  },
  {
   "cell_type": "markdown",
   "metadata": {},
   "source": [
    "### Load experimental data used to calibrate model\n",
    "From here: https://github.com/RuleWorld/ptempest/tree/master/examples/michment"
   ]
  },
  {
   "cell_type": "code",
   "execution_count": 54,
   "metadata": {},
   "outputs": [
    {
     "name": "stdout",
     "output_type": "stream",
     "text": [
      "[100, 10]\n"
     ]
    }
   ],
   "source": [
    "data = io.loadmat(\"MM.mat\")['expt']\n",
    "data = data.ravel()[0][0]\n",
    "ts = data['time'][0].flatten()\n",
    "means = data['mean'][0]\n",
    "means = means[~(pd.isnull(means))]\n",
    "stds = data['stdev'][0]\n",
    "stds = stds[~(pd.isnull(stds))]\n",
    "labels = data['obsv_labels'][0][0]\n",
    "labels = [x[0] for x in labels]\n",
    "init_conds = [data['S0'][0][0][0], data['E0'][0][0][0]]\n",
    "print(init_conds)"
   ]
  },
  {
   "cell_type": "code",
   "execution_count": null,
   "metadata": {},
   "outputs": [],
   "source": []
  }
 ],
 "metadata": {
  "kernelspec": {
   "display_name": "Python 3.9.12 ('base')",
   "language": "python",
   "name": "python3"
  },
  "language_info": {
   "codemirror_mode": {
    "name": "ipython",
    "version": 3
   },
   "file_extension": ".py",
   "mimetype": "text/x-python",
   "name": "python",
   "nbconvert_exporter": "python",
   "pygments_lexer": "ipython3",
   "version": "3.9.12"
  },
  "orig_nbformat": 4,
  "vscode": {
   "interpreter": {
    "hash": "8a65ec1e526b5255dc0ea1cbadf533ce1083d6721cae5c4dd698c5ce3581e14c"
   }
  }
 },
 "nbformat": 4,
 "nbformat_minor": 2
}
