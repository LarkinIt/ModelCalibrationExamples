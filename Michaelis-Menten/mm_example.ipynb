{
 "cells": [
  {
   "cell_type": "markdown",
   "metadata": {},
   "source": [
    "# Michaelis-Menten Model Calibration Example"
   ]
  },
  {
   "cell_type": "code",
   "execution_count": null,
   "metadata": {},
   "outputs": [],
   "source": [
    "import numpy as np\n",
    "import roadrunner\n",
    "from scipy import io\n",
    "import pandas as pd\n",
    "import matplotlib.pyplot as plt\n",
    "import copy\n",
    "import math\n",
    "\n",
    "import pypesto\n",
    "import pypesto.engine as eng\n",
    "import pypesto.visualize as visualize\n",
    "import pypesto.optimize as optimize\n",
    "import pypesto.profile as profile\n",
    "import pypesto.sample as sample\n",
    "import pypesto.store as store\n",
    "import os \n",
    "\n",
    "SEED=123456\n",
    "np.random.seed(seed=SEED)\n",
    "engine = eng.MultiProcessEngine(n_procs=os.cpu_count())\n",
    "\n",
    "print(os.cpu_count())\n",
    "\n",
    "MODEL_SBML_FILE = \"model_sbml.xml\"\n",
    "SPECIES = [\"S\", \"E\", \"ES\", \"P\"]\n",
    "SPECIES_IDs = [\"S1\", \"S2\", \"S3\", \"S4\"] # how the species ids are saved in the SBML file from the original BNGL model\n",
    "SPECIES_COLORS = [\"r\", \"b\", \"indigo\", \"g\"]\n",
    "PARAMS = [\"log_k1\", \"log_k2\", \"log_k3\"]\n",
    "\n",
    "LOG_ERROR = False"
   ]
  },
  {
   "cell_type": "markdown",
   "metadata": {},
   "source": [
    "### Load experimental data used to calibrate model\n",
    "From here: https://github.com/RuleWorld/ptempest/tree/master/examples/michment"
   ]
  },
  {
   "cell_type": "code",
   "execution_count": null,
   "metadata": {},
   "outputs": [],
   "source": [
    "data = io.loadmat(\"MM.mat\")[\"expt\"]\n",
    "data = data.ravel()[0][0]\n",
    "data_ts = data[\"time\"][0].flatten()\n",
    "means = data[\"mean\"][0]\n",
    "data_means = means[~(pd.isnull(means))]\n",
    "stds = data[\"stdev\"][0]\n",
    "data_stds = stds[~(pd.isnull(stds))]\n",
    "labels = data[\"obsv_labels\"][0][0]\n",
    "data_labels = [x[0] for x in labels]\n",
    "init_conds = [data[\"S0\"][0][0][0], data[\"E0\"][0][0][0]]\n",
    "\n",
    "plt.figure(figsize=(8,4)),\n",
    "plt.errorbar(data_ts, data_means, yerr=data_stds, capsize=5, c=\"b\", lw=0, marker=\"o\", elinewidth=1);\n",
    "plt.xlabel(\"Time (seconds)\"); plt.ylabel(\"Substrate [S] Concentration (nM)\");\n",
    "plt.margins(x=0.02, y=0.02);\n",
    "plt.title(\"Synthetic Dataset\");"
   ]
  },
  {
   "cell_type": "markdown",
   "metadata": {},
   "source": [
    "### Load model using `libroadrunner`"
   ]
  },
  {
   "cell_type": "code",
   "execution_count": null,
   "metadata": {},
   "outputs": [],
   "source": [
    "rr = roadrunner.RoadRunner(MODEL_SBML_FILE)\n",
    "rr.integrator.absolute_tolerance = 5e-10\n",
    "rr.integrator.relative_tolerance = 1e-8\n",
    "print(rr.model.getGlobalParameterIds())\n",
    "rr[\"init([S1])\"] = float(init_conds[0]) # change initial substrate concentration\n",
    "rr[\"init([S2])\"] = float(init_conds[1]) # change initial enzyme concentration"
   ]
  },
  {
   "cell_type": "markdown",
   "metadata": {},
   "source": [
    "### Define helper functions that change model parameters and simulate model"
   ]
  },
  {
   "cell_type": "code",
   "execution_count": null,
   "metadata": {},
   "outputs": [],
   "source": [
    "# determine output time points for model based on data time points\n",
    "step = (len(data_ts)-1)*10\n",
    "duration = 1000.0\n",
    "\n",
    "def change_and_run(new_params):\n",
    "    rr.reset()\n",
    "    for name,val in zip(PARAMS, new_params):\n",
    "        #print(name, \"PRE-CHANGE IN MODEL: \",  rr[name])\n",
    "        rr[name] = val\n",
    "        rr.reset() # This forces assignment rules in the SBML model to be re-evaluated\n",
    "        #print(name, val, rr[name])\n",
    "    try:\n",
    "        res = rr.simulate(0, duration, steps=step)\n",
    "        #print(res)\n",
    "    except:\n",
    "        res = []\n",
    "    return res\n",
    "\n",
    "rr.resetAll()\n",
    "plt.figure(figsize=(10,4))\n",
    "orig_traj = rr.simulate(0, duration, steps=step)\n",
    "orig_ts = orig_traj[:, 0]\n",
    "print(orig_ts)\n",
    "orig_specs = np.transpose(orig_traj[:, 1:])\n",
    "for cur_label, cur_traj, cur_c in zip(SPECIES, orig_specs, SPECIES_COLORS):\n",
    "    plt.plot(orig_ts, cur_traj, c=cur_c, label=\"Pre-parameter change %s\"%cur_label, linestyle=\"--\")\n",
    "plt.legend();\n",
    "\n",
    "# sanity check by setting all parameters to near 0\n",
    "traj = change_and_run([-10, -10, -10])\n",
    "traj_ts = traj[:, 0]\n",
    "traj_specs = np.transpose(traj[:, 1:])\n",
    "\n",
    "for cur_label, cur_traj, cur_c in zip(SPECIES, traj_specs, SPECIES_COLORS):\n",
    "    plt.plot(traj_ts, cur_traj, c=cur_c, label=\"Post-parameter change %s\"%cur_label)\n",
    "plt.legend();"
   ]
  },
  {
   "cell_type": "markdown",
   "metadata": {},
   "source": [
    "### Define cost function"
   ]
  },
  {
   "cell_type": "code",
   "execution_count": null,
   "metadata": {},
   "outputs": [],
   "source": [
    "def cost_fun(params):\n",
    "    candidate_params = copy.deepcopy(params)    \n",
    "    guess_res = change_and_run(candidate_params)\n",
    "\n",
    "    if np.isnan(guess_res).any():\n",
    "        return np.inf\n",
    "    \n",
    "    guess_ts = guess_res[:, 0]\n",
    "    guess_s = guess_res[:, 1] # substrate \n",
    "    #print(guess_ts)\n",
    "    #print('Data: ', data_ts)\n",
    "    t_idxs = np.array([i for i in range(len(guess_ts)) for j in range(len(data_ts)) if math.isclose(guess_ts[i],data_ts[j])])\n",
    "    print('\\n\\nT_IDXS: ', t_idxs, '\\n', t_idxs.shape[0])\n",
    "    #print(data_ts.shape[0])\n",
    "    \n",
    "    #for g, d in zip(guess_ts, data_ts):\n",
    "    #print(g, d, g==d, math.isclose(g,d))\n",
    "    \n",
    "    if t_idxs.shape[0] != data_ts.shape[0]:\n",
    "        raise Exception('Not all the times outputted by candidate parameter system are found in data time points! We cannot calculate error!')\n",
    "    \n",
    "    guess_s_short = guess_s[t_idxs]\n",
    "    sse = np.sum(np.square(data_means - guess_s_short) / data_stds)\n",
    "    \n",
    "    if LOG_ERROR:\n",
    "        sse = np.log10(sse)\n",
    "        \n",
    "    return sse\n",
    "    \n",
    "\n",
    "cost_fun([-1,-1,-1])"
   ]
  },
  {
   "cell_type": "code",
   "execution_count": null,
   "metadata": {},
   "outputs": [],
   "source": [
    "error = pypesto.Objective(fun=cost_fun)\n",
    "\n",
    "bnds = [(1e-5, 1e1), (1e-3, 1e3), (1e-3, 1e3)]\n",
    "lb = [x[0] for x in bnds]; ub = [x[1] for x in bnds];\n",
    "problem = pypesto.Problem(\n",
    "    objective=error,\n",
    "    lb=lb,\n",
    "    ub=ub,\n",
    ")"
   ]
  },
  {
   "cell_type": "code",
   "execution_count": null,
   "metadata": {},
   "outputs": [],
   "source": [
    "history_options = pypesto.HistoryOptions(trace_record=True)\n",
    "optim_nm = optimize.ScipyOptimizer(\n",
    "    method='Powell', \n",
    "    options={'maxiter':int(1e4)}\n",
    ")\n",
    "\n",
    "bnd_result = optimize.minimize(\n",
    "    problem=problem,\n",
    "    optimizer=optim_nm,\n",
    "    n_starts=1,\n",
    "    filename=None, engine=engine,\n",
    "    progress_bar=True, history_options=history_options\n",
    ")"
   ]
  }
 ],
 "metadata": {
  "kernelspec": {
   "display_name": "Python 3.9.13 ('base')",
   "language": "python",
   "name": "python3"
  },
  "language_info": {
   "codemirror_mode": {
    "name": "ipython",
    "version": 3
   },
   "file_extension": ".py",
   "mimetype": "text/x-python",
   "name": "python",
   "nbconvert_exporter": "python",
   "pygments_lexer": "ipython3",
   "version": "3.9.13"
  },
  "orig_nbformat": 4,
  "vscode": {
   "interpreter": {
    "hash": "07ced55cebb3738685df4be3022ed9f33ad84977d46a4587f10430f7ce872259"
   }
  }
 },
 "nbformat": 4,
 "nbformat_minor": 2
}
